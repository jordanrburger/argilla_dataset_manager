{
 "cells": [
  {
   "cell_type": "code",
   "execution_count": 4,
   "metadata": {},
   "outputs": [
    {
     "ename": "ModuleNotFoundError",
     "evalue": "No module named 'argilla.client.models'; 'argilla.client' is not a package",
     "output_type": "error",
     "traceback": [
      "\u001b[0;31m---------------------------------------------------------------------------\u001b[0m",
      "\u001b[0;31mModuleNotFoundError\u001b[0m                       Traceback (most recent call last)",
      "Cell \u001b[0;32mIn[4], line 2\u001b[0m\n\u001b[1;32m      1\u001b[0m \u001b[38;5;28;01mfrom\u001b[39;00m \u001b[38;5;21;01margilla_dataset_manager\u001b[39;00m\u001b[38;5;21;01m.\u001b[39;00m\u001b[38;5;21;01mdatasets\u001b[39;00m \u001b[38;5;28;01mimport\u001b[39;00m SettingsManager\n\u001b[0;32m----> 2\u001b[0m \u001b[38;5;28;01mfrom\u001b[39;00m \u001b[38;5;21;01margilla_dataset_manager\u001b[39;00m\u001b[38;5;21;01m.\u001b[39;00m\u001b[38;5;21;01mutils\u001b[39;00m \u001b[38;5;28;01mimport\u001b[39;00m DatasetManager, get_argilla_client\n\u001b[1;32m      4\u001b[0m \u001b[38;5;66;03m# Initialize Argilla client\u001b[39;00m\n\u001b[1;32m      5\u001b[0m client \u001b[38;5;241m=\u001b[39m get_argilla_client()\n",
      "File \u001b[0;32m~/huggingface/argilla_dataset_manager/argilla_dataset_manager/__init__.py:7\u001b[0m\n\u001b[1;32m      5\u001b[0m \u001b[38;5;28;01mfrom\u001b[39;00m \u001b[38;5;21;01m.\u001b[39;00m\u001b[38;5;21;01mdatasets\u001b[39;00m\u001b[38;5;21;01m.\u001b[39;00m\u001b[38;5;21;01msettings_manager\u001b[39;00m \u001b[38;5;28;01mimport\u001b[39;00m DatasetTemplate, SettingsManager\n\u001b[1;32m      6\u001b[0m \u001b[38;5;28;01mfrom\u001b[39;00m \u001b[38;5;21;01m.\u001b[39;00m\u001b[38;5;21;01mutils\u001b[39;00m\u001b[38;5;21;01m.\u001b[39;00m\u001b[38;5;21;01margilla_client\u001b[39;00m \u001b[38;5;28;01mimport\u001b[39;00m get_argilla_client\n\u001b[0;32m----> 7\u001b[0m \u001b[38;5;28;01mfrom\u001b[39;00m \u001b[38;5;21;01m.\u001b[39;00m\u001b[38;5;21;01mutils\u001b[39;00m\u001b[38;5;21;01m.\u001b[39;00m\u001b[38;5;21;01mdataset_manager\u001b[39;00m \u001b[38;5;28;01mimport\u001b[39;00m DatasetManager\n\u001b[1;32m      9\u001b[0m __version__ \u001b[38;5;241m=\u001b[39m \u001b[38;5;124m\"\u001b[39m\u001b[38;5;124m0.1.7\u001b[39m\u001b[38;5;124m\"\u001b[39m\n\u001b[1;32m     10\u001b[0m __all__ \u001b[38;5;241m=\u001b[39m [\u001b[38;5;124m\"\u001b[39m\u001b[38;5;124mDatasetManager\u001b[39m\u001b[38;5;124m\"\u001b[39m, \u001b[38;5;124m\"\u001b[39m\u001b[38;5;124mDatasetTemplate\u001b[39m\u001b[38;5;124m\"\u001b[39m, \u001b[38;5;124m\"\u001b[39m\u001b[38;5;124mSettingsManager\u001b[39m\u001b[38;5;124m\"\u001b[39m, \u001b[38;5;124m\"\u001b[39m\u001b[38;5;124mget_argilla_client\u001b[39m\u001b[38;5;124m\"\u001b[39m]\n",
      "File \u001b[0;32m~/huggingface/argilla_dataset_manager/argilla_dataset_manager/utils/__init__.py:6\u001b[0m\n\u001b[1;32m      1\u001b[0m \u001b[38;5;124;03m\"\"\"\u001b[39;00m\n\u001b[1;32m      2\u001b[0m \u001b[38;5;124;03mUtility modules for Argilla dataset management.\u001b[39;00m\n\u001b[1;32m      3\u001b[0m \u001b[38;5;124;03m\"\"\"\u001b[39;00m\n\u001b[1;32m      5\u001b[0m \u001b[38;5;28;01mfrom\u001b[39;00m \u001b[38;5;21;01m.\u001b[39;00m\u001b[38;5;21;01margilla_client\u001b[39;00m \u001b[38;5;28;01mimport\u001b[39;00m get_argilla_client\n\u001b[0;32m----> 6\u001b[0m \u001b[38;5;28;01mfrom\u001b[39;00m \u001b[38;5;21;01m.\u001b[39;00m\u001b[38;5;21;01mdataset_manager\u001b[39;00m \u001b[38;5;28;01mimport\u001b[39;00m DatasetManager\n\u001b[1;32m      8\u001b[0m __all__ \u001b[38;5;241m=\u001b[39m [\u001b[38;5;124m\"\u001b[39m\u001b[38;5;124mDatasetManager\u001b[39m\u001b[38;5;124m\"\u001b[39m, \u001b[38;5;124m\"\u001b[39m\u001b[38;5;124mget_argilla_client\u001b[39m\u001b[38;5;124m\"\u001b[39m]\n",
      "File \u001b[0;32m~/huggingface/argilla_dataset_manager/argilla_dataset_manager/utils/dataset_manager.py:11\u001b[0m\n\u001b[1;32m      9\u001b[0m \u001b[38;5;28;01mimport\u001b[39;00m \u001b[38;5;21;01margilla\u001b[39;00m \u001b[38;5;28;01mas\u001b[39;00m \u001b[38;5;21;01mrg\u001b[39;00m\n\u001b[1;32m     10\u001b[0m \u001b[38;5;28;01mfrom\u001b[39;00m \u001b[38;5;21;01mtqdm\u001b[39;00m \u001b[38;5;28;01mimport\u001b[39;00m tqdm\n\u001b[0;32m---> 11\u001b[0m \u001b[38;5;28;01mfrom\u001b[39;00m \u001b[38;5;21;01margilla\u001b[39;00m\u001b[38;5;21;01m.\u001b[39;00m\u001b[38;5;21;01mclient\u001b[39;00m\u001b[38;5;21;01m.\u001b[39;00m\u001b[38;5;21;01mmodels\u001b[39;00m \u001b[38;5;28;01mimport\u001b[39;00m Dataset\n\u001b[1;32m     13\u001b[0m logger \u001b[38;5;241m=\u001b[39m logging\u001b[38;5;241m.\u001b[39mgetLogger(\u001b[38;5;18m__name__\u001b[39m)\n\u001b[1;32m     16\u001b[0m \u001b[38;5;28;01mclass\u001b[39;00m \u001b[38;5;21;01mDatasetError\u001b[39;00m(\u001b[38;5;167;01mException\u001b[39;00m):\n",
      "\u001b[0;31mModuleNotFoundError\u001b[0m: No module named 'argilla.client.models'; 'argilla.client' is not a package"
     ]
    }
   ],
   "source": [
    "from argilla_dataset_manager.datasets import SettingsManager\n",
    "from argilla_dataset_manager.utils import DatasetManager, get_argilla_client\n",
    "\n",
    "# Initialize Argilla client\n",
    "client = get_argilla_client()\n",
    "\n",
    "# Create dataset managers\n",
    "dataset_manager = DatasetManager(client)\n",
    "settings_manager = SettingsManager()\n"
   ]
  },
  {
   "cell_type": "code",
   "execution_count": 2,
   "metadata": {},
   "outputs": [
    {
     "name": "stdout",
     "output_type": "stream",
     "text": [
      "Requirement already satisfied: argilla-dataset-manager in /Users/jordanburger/miniconda3/lib/python3.11/site-packages (0.1.5)\n",
      "Requirement already satisfied: argilla>=1.0.0 in /Users/jordanburger/miniconda3/lib/python3.11/site-packages (from argilla-dataset-manager) (2.5.0)\n",
      "Requirement already satisfied: pandas>=1.0.0 in /Users/jordanburger/miniconda3/lib/python3.11/site-packages (from argilla-dataset-manager) (2.2.2)\n",
      "Requirement already satisfied: python-dotenv>=0.10.0 in /Users/jordanburger/miniconda3/lib/python3.11/site-packages (from argilla-dataset-manager) (1.0.0)\n",
      "Requirement already satisfied: requests>=2.0.0 in /Users/jordanburger/miniconda3/lib/python3.11/site-packages (from argilla-dataset-manager) (2.32.3)\n",
      "Requirement already satisfied: pyyaml>=5.0.0 in /Users/jordanburger/miniconda3/lib/python3.11/site-packages (from argilla-dataset-manager) (6.0.1)\n",
      "Requirement already satisfied: tqdm>=4.0.0 in /Users/jordanburger/miniconda3/lib/python3.11/site-packages (from argilla-dataset-manager) (4.66.5)\n",
      "Requirement already satisfied: types-PyYAML>=5.0.0 in /Users/jordanburger/miniconda3/lib/python3.11/site-packages (from argilla-dataset-manager) (6.0.12.20240917)\n",
      "Requirement already satisfied: types-requests>=2.0.0 in /Users/jordanburger/miniconda3/lib/python3.11/site-packages (from argilla-dataset-manager) (2.31.0.6)\n",
      "Requirement already satisfied: types-tqdm>=4.0.0 in /Users/jordanburger/miniconda3/lib/python3.11/site-packages (from argilla-dataset-manager) (4.67.0.20241119)\n",
      "Requirement already satisfied: types-setuptools>=60.0.0 in /Users/jordanburger/miniconda3/lib/python3.11/site-packages (from argilla-dataset-manager) (75.6.0.20241126)\n",
      "Requirement already satisfied: pandas-stubs>=1.0.0 in /Users/jordanburger/miniconda3/lib/python3.11/site-packages (from argilla-dataset-manager) (2.2.3.241126)\n",
      "Requirement already satisfied: pytest>=6.0.0 in /Users/jordanburger/miniconda3/lib/python3.11/site-packages (from argilla-dataset-manager) (7.4.3)\n",
      "Requirement already satisfied: pytest-cov>=3.0.0 in /Users/jordanburger/miniconda3/lib/python3.11/site-packages (from argilla-dataset-manager) (6.0.0)\n",
      "Requirement already satisfied: black>=22.0.0 in /Users/jordanburger/miniconda3/lib/python3.11/site-packages (from argilla-dataset-manager) (24.10.0)\n",
      "Requirement already satisfied: isort>=5.0.0 in /Users/jordanburger/miniconda3/lib/python3.11/site-packages (from argilla-dataset-manager) (5.13.2)\n",
      "Requirement already satisfied: mypy>=0.900 in /Users/jordanburger/miniconda3/lib/python3.11/site-packages (from argilla-dataset-manager) (1.13.0)\n",
      "Requirement already satisfied: httpx>=0.26.0 in /Users/jordanburger/miniconda3/lib/python3.11/site-packages (from argilla>=1.0.0->argilla-dataset-manager) (0.27.0)\n",
      "Requirement already satisfied: pydantic<3.0.0,>=2.6.0 in /Users/jordanburger/miniconda3/lib/python3.11/site-packages (from argilla>=1.0.0->argilla-dataset-manager) (2.10.2)\n",
      "Requirement already satisfied: huggingface_hub>=0.22.0 in /Users/jordanburger/miniconda3/lib/python3.11/site-packages (from argilla>=1.0.0->argilla-dataset-manager) (0.24.6)\n",
      "Requirement already satisfied: rich>=10.0.0 in /Users/jordanburger/miniconda3/lib/python3.11/site-packages (from argilla>=1.0.0->argilla-dataset-manager) (13.7.1)\n",
      "Requirement already satisfied: datasets>=2.0.0 in /Users/jordanburger/miniconda3/lib/python3.11/site-packages (from argilla>=1.0.0->argilla-dataset-manager) (3.0.1)\n",
      "Requirement already satisfied: pillow>=9.5.0 in /Users/jordanburger/miniconda3/lib/python3.11/site-packages (from argilla>=1.0.0->argilla-dataset-manager) (10.3.0)\n",
      "Requirement already satisfied: standardwebhooks>=1.0.0 in /Users/jordanburger/miniconda3/lib/python3.11/site-packages (from argilla>=1.0.0->argilla-dataset-manager) (1.0.0)\n",
      "Requirement already satisfied: click>=8.0.0 in /Users/jordanburger/miniconda3/lib/python3.11/site-packages (from black>=22.0.0->argilla-dataset-manager) (8.1.7)\n",
      "Requirement already satisfied: mypy-extensions>=0.4.3 in /Users/jordanburger/miniconda3/lib/python3.11/site-packages (from black>=22.0.0->argilla-dataset-manager) (1.0.0)\n",
      "Requirement already satisfied: packaging>=22.0 in /Users/jordanburger/miniconda3/lib/python3.11/site-packages (from black>=22.0.0->argilla-dataset-manager) (23.2)\n",
      "Requirement already satisfied: pathspec>=0.9.0 in /Users/jordanburger/miniconda3/lib/python3.11/site-packages (from black>=22.0.0->argilla-dataset-manager) (0.12.1)\n",
      "Requirement already satisfied: platformdirs>=2 in /Users/jordanburger/miniconda3/lib/python3.11/site-packages (from black>=22.0.0->argilla-dataset-manager) (4.2.1)\n",
      "Requirement already satisfied: typing-extensions>=4.6.0 in /Users/jordanburger/miniconda3/lib/python3.11/site-packages (from mypy>=0.900->argilla-dataset-manager) (4.12.2)\n",
      "Requirement already satisfied: numpy>=1.23.2 in /Users/jordanburger/miniconda3/lib/python3.11/site-packages (from pandas>=1.0.0->argilla-dataset-manager) (1.26.4)\n",
      "Requirement already satisfied: python-dateutil>=2.8.2 in /Users/jordanburger/miniconda3/lib/python3.11/site-packages (from pandas>=1.0.0->argilla-dataset-manager) (2.9.0)\n",
      "Requirement already satisfied: pytz>=2020.1 in /Users/jordanburger/miniconda3/lib/python3.11/site-packages (from pandas>=1.0.0->argilla-dataset-manager) (2024.1)\n",
      "Requirement already satisfied: tzdata>=2022.7 in /Users/jordanburger/miniconda3/lib/python3.11/site-packages (from pandas>=1.0.0->argilla-dataset-manager) (2024.1)\n",
      "Requirement already satisfied: types-pytz>=2022.1.1 in /Users/jordanburger/miniconda3/lib/python3.11/site-packages (from pandas-stubs>=1.0.0->argilla-dataset-manager) (2024.2.0.20241003)\n",
      "Requirement already satisfied: iniconfig in /Users/jordanburger/miniconda3/lib/python3.11/site-packages (from pytest>=6.0.0->argilla-dataset-manager) (2.0.0)\n",
      "Requirement already satisfied: pluggy<2.0,>=0.12 in /Users/jordanburger/miniconda3/lib/python3.11/site-packages (from pytest>=6.0.0->argilla-dataset-manager) (1.5.0)\n",
      "Requirement already satisfied: coverage>=7.5 in /Users/jordanburger/miniconda3/lib/python3.11/site-packages (from coverage[toml]>=7.5->pytest-cov>=3.0.0->argilla-dataset-manager) (7.6.8)\n",
      "Requirement already satisfied: charset-normalizer<4,>=2 in /Users/jordanburger/miniconda3/lib/python3.11/site-packages (from requests>=2.0.0->argilla-dataset-manager) (2.0.4)\n",
      "Requirement already satisfied: idna<4,>=2.5 in /Users/jordanburger/miniconda3/lib/python3.11/site-packages (from requests>=2.0.0->argilla-dataset-manager) (3.4)\n",
      "Requirement already satisfied: urllib3<3,>=1.21.1 in /Users/jordanburger/miniconda3/lib/python3.11/site-packages (from requests>=2.0.0->argilla-dataset-manager) (1.26.18)\n",
      "Requirement already satisfied: certifi>=2017.4.17 in /Users/jordanburger/miniconda3/lib/python3.11/site-packages (from requests>=2.0.0->argilla-dataset-manager) (2023.11.17)\n",
      "Requirement already satisfied: types-urllib3 in /Users/jordanburger/miniconda3/lib/python3.11/site-packages (from types-requests>=2.0.0->argilla-dataset-manager) (1.26.25.14)\n",
      "Requirement already satisfied: filelock in /Users/jordanburger/miniconda3/lib/python3.11/site-packages (from datasets>=2.0.0->argilla>=1.0.0->argilla-dataset-manager) (3.15.4)\n",
      "Requirement already satisfied: pyarrow>=15.0.0 in /Users/jordanburger/miniconda3/lib/python3.11/site-packages (from datasets>=2.0.0->argilla>=1.0.0->argilla-dataset-manager) (15.0.2)\n",
      "Requirement already satisfied: dill<0.3.9,>=0.3.0 in /Users/jordanburger/miniconda3/lib/python3.11/site-packages (from datasets>=2.0.0->argilla>=1.0.0->argilla-dataset-manager) (0.3.8)\n",
      "Requirement already satisfied: xxhash in /Users/jordanburger/miniconda3/lib/python3.11/site-packages (from datasets>=2.0.0->argilla>=1.0.0->argilla-dataset-manager) (3.5.0)\n",
      "Requirement already satisfied: multiprocess in /Users/jordanburger/miniconda3/lib/python3.11/site-packages (from datasets>=2.0.0->argilla>=1.0.0->argilla-dataset-manager) (0.70.16)\n",
      "Requirement already satisfied: fsspec<=2024.6.1,>=2023.1.0 in /Users/jordanburger/miniconda3/lib/python3.11/site-packages (from fsspec[http]<=2024.6.1,>=2023.1.0->datasets>=2.0.0->argilla>=1.0.0->argilla-dataset-manager) (2024.6.1)\n",
      "Requirement already satisfied: aiohttp in /Users/jordanburger/miniconda3/lib/python3.11/site-packages (from datasets>=2.0.0->argilla>=1.0.0->argilla-dataset-manager) (3.10.10)\n",
      "Requirement already satisfied: anyio in /Users/jordanburger/miniconda3/lib/python3.11/site-packages (from httpx>=0.26.0->argilla>=1.0.0->argilla-dataset-manager) (4.6.0)\n",
      "Requirement already satisfied: httpcore==1.* in /Users/jordanburger/miniconda3/lib/python3.11/site-packages (from httpx>=0.26.0->argilla>=1.0.0->argilla-dataset-manager) (1.0.6)\n",
      "Requirement already satisfied: sniffio in /Users/jordanburger/miniconda3/lib/python3.11/site-packages (from httpx>=0.26.0->argilla>=1.0.0->argilla-dataset-manager) (1.3.1)\n",
      "Requirement already satisfied: h11<0.15,>=0.13 in /Users/jordanburger/miniconda3/lib/python3.11/site-packages (from httpcore==1.*->httpx>=0.26.0->argilla>=1.0.0->argilla-dataset-manager) (0.14.0)\n",
      "Requirement already satisfied: annotated-types>=0.6.0 in /Users/jordanburger/miniconda3/lib/python3.11/site-packages (from pydantic<3.0.0,>=2.6.0->argilla>=1.0.0->argilla-dataset-manager) (0.6.0)\n",
      "Requirement already satisfied: pydantic-core==2.27.1 in /Users/jordanburger/miniconda3/lib/python3.11/site-packages (from pydantic<3.0.0,>=2.6.0->argilla>=1.0.0->argilla-dataset-manager) (2.27.1)\n",
      "Requirement already satisfied: six>=1.5 in /Users/jordanburger/miniconda3/lib/python3.11/site-packages (from python-dateutil>=2.8.2->pandas>=1.0.0->argilla-dataset-manager) (1.16.0)\n",
      "Requirement already satisfied: markdown-it-py>=2.2.0 in /Users/jordanburger/miniconda3/lib/python3.11/site-packages (from rich>=10.0.0->argilla>=1.0.0->argilla-dataset-manager) (3.0.0)\n",
      "Requirement already satisfied: pygments<3.0.0,>=2.13.0 in /Users/jordanburger/miniconda3/lib/python3.11/site-packages (from rich>=10.0.0->argilla>=1.0.0->argilla-dataset-manager) (2.17.2)\n",
      "Requirement already satisfied: attrs>=21.3.0 in /Users/jordanburger/miniconda3/lib/python3.11/site-packages (from standardwebhooks>=1.0.0->argilla>=1.0.0->argilla-dataset-manager) (23.2.0)\n",
      "Requirement already satisfied: Deprecated in /Users/jordanburger/miniconda3/lib/python3.11/site-packages (from standardwebhooks>=1.0.0->argilla>=1.0.0->argilla-dataset-manager) (1.2.14)\n",
      "Requirement already satisfied: types-python-dateutil in /Users/jordanburger/miniconda3/lib/python3.11/site-packages (from standardwebhooks>=1.0.0->argilla>=1.0.0->argilla-dataset-manager) (2.9.0.20241003)\n",
      "Requirement already satisfied: types-Deprecated in /Users/jordanburger/miniconda3/lib/python3.11/site-packages (from standardwebhooks>=1.0.0->argilla>=1.0.0->argilla-dataset-manager) (1.2.15.20241117)\n",
      "Requirement already satisfied: aiohappyeyeballs>=2.3.0 in /Users/jordanburger/miniconda3/lib/python3.11/site-packages (from aiohttp->datasets>=2.0.0->argilla>=1.0.0->argilla-dataset-manager) (2.4.3)\n",
      "Requirement already satisfied: aiosignal>=1.1.2 in /Users/jordanburger/miniconda3/lib/python3.11/site-packages (from aiohttp->datasets>=2.0.0->argilla>=1.0.0->argilla-dataset-manager) (1.3.1)\n",
      "Requirement already satisfied: frozenlist>=1.1.1 in /Users/jordanburger/miniconda3/lib/python3.11/site-packages (from aiohttp->datasets>=2.0.0->argilla>=1.0.0->argilla-dataset-manager) (1.4.1)\n",
      "Requirement already satisfied: multidict<7.0,>=4.5 in /Users/jordanburger/miniconda3/lib/python3.11/site-packages (from aiohttp->datasets>=2.0.0->argilla>=1.0.0->argilla-dataset-manager) (6.1.0)\n",
      "Requirement already satisfied: yarl<2.0,>=1.12.0 in /Users/jordanburger/miniconda3/lib/python3.11/site-packages (from aiohttp->datasets>=2.0.0->argilla>=1.0.0->argilla-dataset-manager) (1.15.2)\n",
      "Requirement already satisfied: mdurl~=0.1 in /Users/jordanburger/miniconda3/lib/python3.11/site-packages (from markdown-it-py>=2.2.0->rich>=10.0.0->argilla>=1.0.0->argilla-dataset-manager) (0.1.2)\n",
      "Requirement already satisfied: wrapt<2,>=1.10 in /Users/jordanburger/miniconda3/lib/python3.11/site-packages (from Deprecated->standardwebhooks>=1.0.0->argilla>=1.0.0->argilla-dataset-manager) (1.16.0)\n",
      "Requirement already satisfied: propcache>=0.2.0 in /Users/jordanburger/miniconda3/lib/python3.11/site-packages (from yarl<2.0,>=1.12.0->aiohttp->datasets>=2.0.0->argilla>=1.0.0->argilla-dataset-manager) (0.2.0)\n",
      "Note: you may need to restart the kernel to use updated packages.\n"
     ]
    }
   ],
   "source": [
    "%pip install argilla-dataset-manager\n"
   ]
  },
  {
   "cell_type": "code",
   "execution_count": 74,
   "metadata": {},
   "outputs": [
    {
     "ename": "AttributeError",
     "evalue": "'DatasetManager' object has no attribute 'list_workspaces'",
     "output_type": "error",
     "traceback": [
      "\u001b[0;31m---------------------------------------------------------------------------\u001b[0m",
      "\u001b[0;31mAttributeError\u001b[0m                            Traceback (most recent call last)",
      "Cell \u001b[0;32mIn[74], line 1\u001b[0m\n\u001b[0;32m----> 1\u001b[0m \u001b[43mdataset_manager\u001b[49m\u001b[38;5;241;43m.\u001b[39;49m\u001b[43mlist_workspaces\u001b[49m()\n",
      "\u001b[0;31mAttributeError\u001b[0m: 'DatasetManager' object has no attribute 'list_workspaces'"
     ]
    }
   ],
   "source": [
    "dataset_manager.list_workspaces()\n"
   ]
  },
  {
   "cell_type": "code",
   "execution_count": 58,
   "metadata": {},
   "outputs": [],
   "source": [
    "workspace = dataset_manager.client.workspaces[1]\n"
   ]
  },
  {
   "cell_type": "code",
   "execution_count": 60,
   "metadata": {},
   "outputs": [
    {
     "data": {
      "text/plain": [
       "'keboola-slack-ft'"
      ]
     },
     "execution_count": 60,
     "metadata": {},
     "output_type": "execute_result"
    }
   ],
   "source": [
    "workspace.name"
   ]
  },
  {
   "cell_type": "code",
   "execution_count": 30,
   "metadata": {},
   "outputs": [
    {
     "data": {
      "text/plain": [
       "{'guidelines': '',\n",
       " 'fields': [TextField(name=question, title=question, description=None, type=text, required=True) ,\n",
       "  TextField(name=answer, title=answer, description=None, type=text, required=True) ],\n",
       " 'metadata_properties': []}"
      ]
     },
     "execution_count": 30,
     "metadata": {},
     "output_type": "execute_result"
    }
   ],
   "source": []
  },
  {
   "cell_type": "code",
   "execution_count": 68,
   "metadata": {},
   "outputs": [],
   "source": [
    "dataset_manager = DatasetManager(get_argilla_client())\n",
    "\n"
   ]
  },
  {
   "cell_type": "code",
   "execution_count": 69,
   "metadata": {},
   "outputs": [
    {
     "ename": "DatasetError",
     "evalue": "Failed to create dataset 'qa_dataset': Argilla SDK error: ConflictError: Conflict with the server. Resource or entity already exists. Details: {\"detail\":\"Dataset with name `qa_dataset` already exists for workspace with id `31f6ab7f-9dae-4617-aadb-c19211b2ad27`\"}",
     "output_type": "error",
     "traceback": [
      "\u001b[0;31m---------------------------------------------------------------------------\u001b[0m",
      "\u001b[0;31mHTTPStatusError\u001b[0m                           Traceback (most recent call last)",
      "File \u001b[0;32m~/miniconda3/lib/python3.11/site-packages/argilla/_exceptions/_api.py:91\u001b[0m, in \u001b[0;36mapi_error_handler.<locals>._handler_wrapper\u001b[0;34m(*args, **kwargs)\u001b[0m\n\u001b[1;32m     90\u001b[0m \u001b[38;5;28;01mtry\u001b[39;00m:\n\u001b[0;32m---> 91\u001b[0m     \u001b[38;5;28;01mreturn\u001b[39;00m \u001b[43mfunc\u001b[49m\u001b[43m(\u001b[49m\u001b[38;5;241;43m*\u001b[39;49m\u001b[43margs\u001b[49m\u001b[43m,\u001b[49m\u001b[43m \u001b[49m\u001b[38;5;241;43m*\u001b[39;49m\u001b[38;5;241;43m*\u001b[39;49m\u001b[43mkwargs\u001b[49m\u001b[43m)\u001b[49m\n\u001b[1;32m     92\u001b[0m \u001b[38;5;28;01mexcept\u001b[39;00m HTTPStatusError \u001b[38;5;28;01mas\u001b[39;00m e:\n",
      "File \u001b[0;32m~/miniconda3/lib/python3.11/site-packages/argilla/_api/_datasets.py:45\u001b[0m, in \u001b[0;36mDatasetsAPI.create\u001b[0;34m(self, dataset)\u001b[0m\n\u001b[1;32m     41\u001b[0m response \u001b[38;5;241m=\u001b[39m \u001b[38;5;28mself\u001b[39m\u001b[38;5;241m.\u001b[39mhttp_client\u001b[38;5;241m.\u001b[39mpost(\n\u001b[1;32m     42\u001b[0m     url\u001b[38;5;241m=\u001b[39m\u001b[38;5;28mself\u001b[39m\u001b[38;5;241m.\u001b[39murl_stub,\n\u001b[1;32m     43\u001b[0m     json\u001b[38;5;241m=\u001b[39mjson_body,\n\u001b[1;32m     44\u001b[0m )\n\u001b[0;32m---> 45\u001b[0m \u001b[43mresponse\u001b[49m\u001b[38;5;241;43m.\u001b[39;49m\u001b[43mraise_for_status\u001b[49m\u001b[43m(\u001b[49m\u001b[43m)\u001b[49m\n\u001b[1;32m     46\u001b[0m response_json \u001b[38;5;241m=\u001b[39m response\u001b[38;5;241m.\u001b[39mjson()\n",
      "File \u001b[0;32m~/miniconda3/lib/python3.11/site-packages/httpx/_models.py:763\u001b[0m, in \u001b[0;36mResponse.raise_for_status\u001b[0;34m(self)\u001b[0m\n\u001b[1;32m    762\u001b[0m message \u001b[38;5;241m=\u001b[39m message\u001b[38;5;241m.\u001b[39mformat(\u001b[38;5;28mself\u001b[39m, error_type\u001b[38;5;241m=\u001b[39merror_type)\n\u001b[0;32m--> 763\u001b[0m \u001b[38;5;28;01mraise\u001b[39;00m HTTPStatusError(message, request\u001b[38;5;241m=\u001b[39mrequest, response\u001b[38;5;241m=\u001b[39m\u001b[38;5;28mself\u001b[39m)\n",
      "\u001b[0;31mHTTPStatusError\u001b[0m: Client error '409 Conflict' for url 'https://keboola-argilla.hf.space/api/v1/datasets'\nFor more information check: https://developer.mozilla.org/en-US/docs/Web/HTTP/Status/409",
      "\nDuring handling of the above exception, another exception occurred:\n",
      "\u001b[0;31mConflictError\u001b[0m                             Traceback (most recent call last)",
      "File \u001b[0;32m~/huggingface/argilla_dataset_manager/utils/dataset_manager.py:117\u001b[0m, in \u001b[0;36mDatasetManager.create_dataset\u001b[0;34m(self, workspace, dataset, settings)\u001b[0m\n\u001b[1;32m    111\u001b[0m     dataset_obj \u001b[38;5;241m=\u001b[39m rg\u001b[38;5;241m.\u001b[39mDataset(\n\u001b[1;32m    112\u001b[0m         name\u001b[38;5;241m=\u001b[39mdataset,\n\u001b[1;32m    113\u001b[0m         workspace\u001b[38;5;241m=\u001b[39mws\u001b[38;5;241m.\u001b[39mname,\n\u001b[1;32m    114\u001b[0m         settings\u001b[38;5;241m=\u001b[39margilla_settings,\n\u001b[1;32m    115\u001b[0m         client\u001b[38;5;241m=\u001b[39m\u001b[38;5;28mself\u001b[39m\u001b[38;5;241m.\u001b[39mclient\n\u001b[1;32m    116\u001b[0m     )\n\u001b[0;32m--> 117\u001b[0m     \u001b[38;5;28;01mreturn\u001b[39;00m \u001b[43mdataset_obj\u001b[49m\u001b[38;5;241;43m.\u001b[39;49m\u001b[43mcreate\u001b[49m\u001b[43m(\u001b[49m\u001b[43m)\u001b[49m\n\u001b[1;32m    120\u001b[0m \u001b[38;5;28;01mexcept\u001b[39;00m \u001b[38;5;167;01mException\u001b[39;00m \u001b[38;5;28;01mas\u001b[39;00m e:\n",
      "File \u001b[0;32m~/miniconda3/lib/python3.11/site-packages/argilla/datasets/_resource.py:166\u001b[0m, in \u001b[0;36mDataset.create\u001b[0;34m(self)\u001b[0m\n\u001b[1;32m    165\u001b[0m \u001b[38;5;28;01mtry\u001b[39;00m:\n\u001b[0;32m--> 166\u001b[0m     \u001b[38;5;28;43msuper\u001b[39;49m\u001b[43m(\u001b[49m\u001b[43m)\u001b[49m\u001b[38;5;241;43m.\u001b[39;49m\u001b[43mcreate\u001b[49m\u001b[43m(\u001b[49m\u001b[43m)\u001b[49m\n\u001b[1;32m    167\u001b[0m \u001b[38;5;28;01mexcept\u001b[39;00m ForbiddenError \u001b[38;5;28;01mas\u001b[39;00m e:\n",
      "File \u001b[0;32m~/miniconda3/lib/python3.11/site-packages/argilla/_resource.py:94\u001b[0m, in \u001b[0;36mResource.create\u001b[0;34m(self)\u001b[0m\n\u001b[1;32m     93\u001b[0m \u001b[38;5;28;01mdef\u001b[39;00m \u001b[38;5;21mcreate\u001b[39m(\u001b[38;5;28mself\u001b[39m) \u001b[38;5;241m-\u001b[39m\u001b[38;5;241m>\u001b[39m \u001b[38;5;124m\"\u001b[39m\u001b[38;5;124mResource\u001b[39m\u001b[38;5;124m\"\u001b[39m:\n\u001b[0;32m---> 94\u001b[0m     response_model \u001b[38;5;241m=\u001b[39m \u001b[38;5;28;43mself\u001b[39;49m\u001b[38;5;241;43m.\u001b[39;49m\u001b[43m_api\u001b[49m\u001b[38;5;241;43m.\u001b[39;49m\u001b[43mcreate\u001b[49m\u001b[43m(\u001b[49m\u001b[38;5;28;43mself\u001b[39;49m\u001b[38;5;241;43m.\u001b[39;49m\u001b[43mapi_model\u001b[49m\u001b[43m(\u001b[49m\u001b[43m)\u001b[49m\u001b[43m)\u001b[49m\n\u001b[1;32m     95\u001b[0m     \u001b[38;5;28mself\u001b[39m\u001b[38;5;241m.\u001b[39m_model \u001b[38;5;241m=\u001b[39m response_model\n",
      "File \u001b[0;32m~/miniconda3/lib/python3.11/site-packages/argilla/_exceptions/_api.py:93\u001b[0m, in \u001b[0;36mapi_error_handler.<locals>._handler_wrapper\u001b[0;34m(*args, **kwargs)\u001b[0m\n\u001b[1;32m     92\u001b[0m \u001b[38;5;28;01mexcept\u001b[39;00m HTTPStatusError \u001b[38;5;28;01mas\u001b[39;00m e:\n\u001b[0;32m---> 93\u001b[0m     \u001b[43m_error_switch\u001b[49m\u001b[43m(\u001b[49m\u001b[43mstatus_code\u001b[49m\u001b[38;5;241;43m=\u001b[39;49m\u001b[43me\u001b[49m\u001b[38;5;241;43m.\u001b[39;49m\u001b[43mresponse\u001b[49m\u001b[38;5;241;43m.\u001b[39;49m\u001b[43mstatus_code\u001b[49m\u001b[43m,\u001b[49m\u001b[43m \u001b[49m\u001b[43merror_detail\u001b[49m\u001b[38;5;241;43m=\u001b[39;49m\u001b[43me\u001b[49m\u001b[38;5;241;43m.\u001b[39;49m\u001b[43mresponse\u001b[49m\u001b[38;5;241;43m.\u001b[39;49m\u001b[43mtext\u001b[49m\u001b[43m)\u001b[49m\n",
      "File \u001b[0;32m~/miniconda3/lib/python3.11/site-packages/argilla/_exceptions/_api.py:87\u001b[0m, in \u001b[0;36mapi_error_handler.<locals>._error_switch\u001b[0;34m(status_code, error_detail)\u001b[0m\n\u001b[1;32m     86\u001b[0m exception_class \u001b[38;5;241m=\u001b[39m switch\u001b[38;5;241m.\u001b[39mget(status_code, ArgillaAPIError)\n\u001b[0;32m---> 87\u001b[0m \u001b[38;5;28;01mraise\u001b[39;00m exception_class(\u001b[38;5;124mf\u001b[39m\u001b[38;5;124m\"\u001b[39m\u001b[38;5;132;01m{\u001b[39;00mexception_class\u001b[38;5;241m.\u001b[39mmessage\u001b[38;5;132;01m}\u001b[39;00m\u001b[38;5;124m. Details: \u001b[39m\u001b[38;5;132;01m{\u001b[39;00merror_detail\u001b[38;5;132;01m}\u001b[39;00m\u001b[38;5;124m\"\u001b[39m, status_code\u001b[38;5;241m=\u001b[39mstatus_code)\n",
      "\u001b[0;31mConflictError\u001b[0m: Argilla SDK error: ConflictError: Conflict with the server. Resource or entity already exists. Details: {\"detail\":\"Dataset with name `qa_dataset` already exists for workspace with id `31f6ab7f-9dae-4617-aadb-c19211b2ad27`\"}",
      "\nDuring handling of the above exception, another exception occurred:\n",
      "\u001b[0;31mDatasetError\u001b[0m                              Traceback (most recent call last)",
      "Cell \u001b[0;32mIn[69], line 1\u001b[0m\n\u001b[0;32m----> 1\u001b[0m \u001b[43mdataset_manager\u001b[49m\u001b[38;5;241;43m.\u001b[39;49m\u001b[43mcreate_dataset\u001b[49m\u001b[43m(\u001b[49m\n\u001b[1;32m      2\u001b[0m \u001b[43m    \u001b[49m\u001b[43mworkspace\u001b[49m\u001b[38;5;241;43m=\u001b[39;49m\u001b[38;5;124;43m\"\u001b[39;49m\u001b[38;5;124;43mkeboola-slack-ft-model-comparison\u001b[39;49m\u001b[38;5;124;43m\"\u001b[39;49m\u001b[43m,\u001b[49m\n\u001b[1;32m      3\u001b[0m \u001b[43m    \u001b[49m\u001b[43mdataset\u001b[49m\u001b[38;5;241;43m=\u001b[39;49m\u001b[38;5;124;43m\"\u001b[39;49m\u001b[38;5;124;43mqa_dataset\u001b[39;49m\u001b[38;5;124;43m\"\u001b[39;49m\u001b[43m,\u001b[49m\n\u001b[1;32m      4\u001b[0m \u001b[43m    \u001b[49m\u001b[43msettings\u001b[49m\u001b[38;5;241;43m=\u001b[39;49m\u001b[43msettings\u001b[49m\n\u001b[1;32m      5\u001b[0m \u001b[43m)\u001b[49m\n",
      "File \u001b[0;32m~/huggingface/argilla_dataset_manager/utils/dataset_manager.py:122\u001b[0m, in \u001b[0;36mDatasetManager.create_dataset\u001b[0;34m(self, workspace, dataset, settings)\u001b[0m\n\u001b[1;32m    120\u001b[0m \u001b[38;5;28;01mif\u001b[39;00m \u001b[38;5;129;01mnot\u001b[39;00m \u001b[38;5;28misinstance\u001b[39m(e, DatasetError):\n\u001b[1;32m    121\u001b[0m     e \u001b[38;5;241m=\u001b[39m DatasetError(\u001b[38;5;124mf\u001b[39m\u001b[38;5;124m\"\u001b[39m\u001b[38;5;124mFailed to create dataset \u001b[39m\u001b[38;5;124m'\u001b[39m\u001b[38;5;132;01m{\u001b[39;00mdataset\u001b[38;5;132;01m}\u001b[39;00m\u001b[38;5;124m'\u001b[39m\u001b[38;5;124m: \u001b[39m\u001b[38;5;132;01m{\u001b[39;00m\u001b[38;5;28mstr\u001b[39m(e)\u001b[38;5;132;01m}\u001b[39;00m\u001b[38;5;124m\"\u001b[39m)\n\u001b[0;32m--> 122\u001b[0m \u001b[38;5;28;01mraise\u001b[39;00m e\n",
      "\u001b[0;31mDatasetError\u001b[0m: Failed to create dataset 'qa_dataset': Argilla SDK error: ConflictError: Conflict with the server. Resource or entity already exists. Details: {\"detail\":\"Dataset with name `qa_dataset` already exists for workspace with id `31f6ab7f-9dae-4617-aadb-c19211b2ad27`\"}"
     ]
    }
   ],
   "source": [
    "dataset_manager.create_dataset(\n",
    "    workspace=\"keboola-slack-ft-model-comparison\",\n",
    "    dataset=\"qa_dataset\",\n",
    "    settings=settings\n",
    ")\n"
   ]
  },
  {
   "cell_type": "code",
   "execution_count": 12,
   "metadata": {},
   "outputs": [
    {
     "data": {
      "text/plain": [
       "Dataset(id=UUID('384ee03b-db70-4b10-b6e1-cfbe2c1800af') inserted_at=datetime.datetime(2024, 12, 1, 17, 26, 52, 192519) updated_at=datetime.datetime(2024, 12, 1, 17, 26, 52, 931036) name='qa_dataset' status='ready' guidelines='Dataset for Q&A pairs with optional context and keywords' allow_extra_metadata=False distribution=OverlapTaskDistributionModel(strategy='overlap', min_submitted=1) workspace_id=UUID('31f6ab7f-9dae-4617-aadb-c19211b2ad27') last_activity_at=datetime.datetime(2024, 12, 1, 17, 26, 52, 931036))"
      ]
     },
     "execution_count": 12,
     "metadata": {},
     "output_type": "execute_result"
    }
   ],
   "source": []
  },
  {
   "cell_type": "code",
   "execution_count": null,
   "metadata": {},
   "outputs": [],
   "source": []
  }
 ],
 "metadata": {
  "kernelspec": {
   "display_name": "base",
   "language": "python",
   "name": "python3"
  },
  "language_info": {
   "codemirror_mode": {
    "name": "ipython",
    "version": 3
   },
   "file_extension": ".py",
   "mimetype": "text/x-python",
   "name": "python",
   "nbconvert_exporter": "python",
   "pygments_lexer": "ipython3",
   "version": "3.11.8"
  }
 },
 "nbformat": 4,
 "nbformat_minor": 2
}
