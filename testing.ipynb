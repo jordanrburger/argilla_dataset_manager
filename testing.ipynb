{
 "cells": [
  {
   "cell_type": "code",
   "execution_count": 3,
   "metadata": {},
   "outputs": [
    {
     "ename": "ModuleNotFoundError",
     "evalue": "No module named 'datasets.settings_manager'",
     "output_type": "error",
     "traceback": [
      "\u001b[0;31m---------------------------------------------------------------------------\u001b[0m",
      "\u001b[0;31mModuleNotFoundError\u001b[0m                       Traceback (most recent call last)",
      "Cell \u001b[0;32mIn[3], line 1\u001b[0m\n\u001b[0;32m----> 1\u001b[0m \u001b[38;5;28;01mfrom\u001b[39;00m \u001b[38;5;21;01mdatasets\u001b[39;00m\u001b[38;5;21;01m.\u001b[39;00m\u001b[38;5;21;01msettings_manager\u001b[39;00m \u001b[38;5;28;01mimport\u001b[39;00m SettingsManager, create_qa_dataset_settings\n\u001b[1;32m      2\u001b[0m \u001b[38;5;28;01mfrom\u001b[39;00m \u001b[38;5;21;01mutils\u001b[39;00m\u001b[38;5;21;01m.\u001b[39;00m\u001b[38;5;21;01mdataset_manager\u001b[39;00m \u001b[38;5;28;01mimport\u001b[39;00m DatasetManager\n\u001b[1;32m      3\u001b[0m \u001b[38;5;28;01mfrom\u001b[39;00m \u001b[38;5;21;01mutils\u001b[39;00m\u001b[38;5;21;01m.\u001b[39;00m\u001b[38;5;21;01margilla_client\u001b[39;00m \u001b[38;5;28;01mimport\u001b[39;00m get_argilla_client\n",
      "\u001b[0;31mModuleNotFoundError\u001b[0m: No module named 'datasets.settings_manager'"
     ]
    }
   ],
   "source": [
    "from my_datasets.settings_manager import SettingsManager, create_qa_dataset_settings\n",
    "from utils.dataset_manager import DatasetManager\n",
    "from utils.argilla_client import get_argilla_client\n",
    "\n",
    "dataset_manager = DatasetManager(get_argilla_client())\n",
    "settings_manager = SettingsManager()\n",
    "\n",
    "new_settings = create_qa_dataset_settings(\n",
    "    name=\"enhanced_qa_dataset\",\n",
    "    include_context=True,\n",
    "    include_keywords=True\n",
    ")\n",
    "\n",
    "dataset_manager.migrate_dataset(\n",
    "       source_workspace=\"old_workspace\",\n",
    "       source_dataset=\"old_dataset\",\n",
    "       target_workspace=\"new_workspace\",\n",
    "       target_dataset=\"enhanced_dataset\",\n",
    "       new_settings=new_settings\n",
    "   )"
   ]
  },
  {
   "cell_type": "code",
   "execution_count": null,
   "metadata": {},
   "outputs": [],
   "source": []
  }
 ],
 "metadata": {
  "kernelspec": {
   "display_name": "base",
   "language": "python",
   "name": "python3"
  },
  "language_info": {
   "codemirror_mode": {
    "name": "ipython",
    "version": 3
   },
   "file_extension": ".py",
   "mimetype": "text/x-python",
   "name": "python",
   "nbconvert_exporter": "python",
   "pygments_lexer": "ipython3",
   "version": "3.11.8"
  }
 },
 "nbformat": 4,
 "nbformat_minor": 2
}
